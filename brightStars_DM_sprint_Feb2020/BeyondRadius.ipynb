{
 "cells": [
  {
   "cell_type": "markdown",
   "metadata": {},
   "source": [
    "# Study false detections around bright star masks\n",
    "The radius of current HSC bright star masks, made by Andy Goulding, are selected by comparing the density of detections in increasingly large annuli around each bright stars with the average detection density. \n",
    "\n",
    "Still, false detections are present right outside the edge of masks for several objects. The aim of this notebook is to provide a plot of the number of detections as a function of increasing radius, around bright stars and beyond the edge of their mask, to visualize this problem."
   ]
  },
  {
   "cell_type": "markdown",
   "metadata": {},
   "source": [
    "## Options\n",
    "You might want to change the two cells below.\n",
    "\n",
    "The first one allows one to choose the path to the Butler repo we will read in, filter (note it only changes masks read in*, since we read detections from merged catalog), tracts, and binning options for the annuli.\n",
    "\n",
    "The rerun in `/project/mschmitz/hscRerun/mynobg` is a subset of the 25 central patches in tract 9697, and had local background subtraction turned off.\n",
    "\n",
    "Normally, we'd select bright objects to study from an outside catalog (Gaia). But for now, we are just reading in the actual mask region files, which means we have to jump through a few extra hoops.\n",
    "If we want to look at whole tracts, we can just set `reselectBrightObjects` to `False`; if further selection of bright objects is needed, pass on a string.\n",
    "The only one recognized at the moment is `boxAround`, where we pick a rectangular box around the furthest detections (because I only reran on the inner 25 patches of a tract for analysis sprint). This is admittedly hacky, but it's temporary, while we work with Andy's masks (and might prove useful anyway, eg to do this plot on the whole COSMOS field, that is circular).\n",
    "\n",
    "\\* not even that in the case of the Arcturus masks, that are all those from the I band despite the filenames containing a filter."
   ]
  },
  {
   "cell_type": "code",
   "execution_count": 1,
   "metadata": {},
   "outputs": [],
   "source": [
    "butlerPath = \"/project/mschmitz/hscRerun/mynobg\"\n",
    "\n",
    "chosenFilter = \"HSC-R\" \n",
    "tractList = [9697] \n",
    "patchList = [[\"{},{}\".format(i,j) for i in range(2,7) for j in range(2,7)]]\n",
    "\n",
    "# Annuli parameters\n",
    "annSize = 5 # radius of each consecutive annulus, in arcsec\n",
    "nbAnnuli = 20 # number of annuli\n",
    "\n",
    "# which detections to keep\n",
    "reselectBrightObjects = \"boxAround\"#False\n",
    "\n",
    "# print a few checkpoints, validation plots, etc\n",
    "verbose = False\n",
    "\n",
    "# which mask to load - if False, loads Arcturus masks\n",
    "gouldingMask = True"
   ]
  },
  {
   "cell_type": "markdown",
   "metadata": {},
   "source": [
    "Change this cell if you want to save the end plot:"
   ]
  },
  {
   "cell_type": "code",
   "execution_count": 2,
   "metadata": {},
   "outputs": [],
   "source": [
    "# whether to save plots and what to call them\n",
    "savePlots = True\n",
    "plotStub = \"beyondMask\"\n",
    "plotExt = \".png\""
   ]
  },
  {
   "cell_type": "markdown",
   "metadata": {},
   "source": [
    "The rest of the notebook should not require any changes before being ran (though note the cell that actually computes the number counts can take up to a few minutes per tract, depending on annuli parameters)."
   ]
  },
  {
   "cell_type": "markdown",
   "metadata": {},
   "source": [
    "## Set up\n",
    "Usual imports:"
   ]
  },
  {
   "cell_type": "code",
   "execution_count": 3,
   "metadata": {},
   "outputs": [],
   "source": [
    "%matplotlib inline\n",
    "import numpy as np\n",
    "from lsst.daf.persistence import Butler\n",
    "from lsst import geom\n",
    "import matplotlib.pyplot as plt\n",
    "import os"
   ]
  },
  {
   "cell_type": "markdown",
   "metadata": {},
   "source": [
    "And script with utility functions:"
   ]
  },
  {
   "cell_type": "code",
   "execution_count": 4,
   "metadata": {},
   "outputs": [],
   "source": [
    "import helperFuncs"
   ]
  },
  {
   "cell_type": "markdown",
   "metadata": {},
   "source": [
    "Token to avoid rereading the detections every time, eg if we want to play with annuli parameters"
   ]
  },
  {
   "cell_type": "code",
   "execution_count": 5,
   "metadata": {},
   "outputs": [],
   "source": [
    "src_loaded = False "
   ]
  },
  {
   "cell_type": "markdown",
   "metadata": {},
   "source": [
    "Initialize Butler repo:"
   ]
  },
  {
   "cell_type": "code",
   "execution_count": 6,
   "metadata": {},
   "outputs": [],
   "source": [
    "butler = Butler(butlerPath)"
   ]
  },
  {
   "cell_type": "markdown",
   "metadata": {},
   "source": [
    "Path to masks. Note there's likely some that are repeated when using Arcturus near the edges of patches."
   ]
  },
  {
   "cell_type": "code",
   "execution_count": 7,
   "metadata": {},
   "outputs": [
    {
     "name": "stdout",
     "output_type": "stream",
     "text": [
      "r\n"
     ]
    }
   ],
   "source": [
    "if gouldingMask:\n",
    "    # filenames have lower case filter in them:\n",
    "    if chosenFilter=='HSC-G':\n",
    "        filter_lc = 'g'\n",
    "    elif chosenFilter=='HSC-R':\n",
    "        filter_lc = 'r'\n",
    "    elif chosenFilter=='HSC-I':\n",
    "        filter_lc = 'i'\n",
    "    elif chosenFilter=='HSC-z':\n",
    "        filter_lc = 'z'\n",
    "    elif chosenFilter=='HSC-y':\n",
    "        filter_lc = 'y'\n",
    "    print(filter_lc)\n",
    "    mask_path = \"/datasets/hsc/BrightObjectMasks/GouldingMasksS18A/new_S18Amask_{}.reg\".format(\n",
    "                                            filter_lc)\n",
    "else:\n",
    "    mask_path = \"/datasets/hsc/BrightObjectMasks/ArcturusMasks/\" "
   ]
  },
  {
   "cell_type": "markdown",
   "metadata": {},
   "source": [
    "If plots are to be saved, make sure the folder exists:"
   ]
  },
  {
   "cell_type": "code",
   "execution_count": 8,
   "metadata": {},
   "outputs": [],
   "source": [
    "if savePlots:\n",
    "    if not os.path.isdir('plots/'):\n",
    "        os.makedirs('plots/')"
   ]
  },
  {
   "cell_type": "markdown",
   "metadata": {},
   "source": [
    "## Run\n",
    "Warning: running cell below can take a while."
   ]
  },
  {
   "cell_type": "code",
   "execution_count": 9,
   "metadata": {},
   "outputs": [],
   "source": [
    "densities, brightMags, brightRads, brightCenters = [], [], [], []\n",
    "for tract,patches in zip(tractList,patchList):\n",
    "    # get sky map and WCS for this tract\n",
    "    skymap = butler.get(\"deepCoadd_skyMap\", tract=tract, filter=chosenFilter)\n",
    "    tractInfo = skymap[tract]\n",
    "    wcs = tractInfo.getWcs()\n",
    "    \n",
    "    # convert annuli parameters to pixel\n",
    "    pixScale = geom.radToArcsec(wcs.getPixelScale())\n",
    "    annSizePix = annSize / pixScale\n",
    "    \n",
    "    # load detection catalog for each patch\n",
    "    if verbose:\n",
    "        print(\"Loading and appending all detections...\")\n",
    "    if not src_loaded:\n",
    "        src = butler.get('deepCoadd_meas', tract=tract, patch=patches[0], \n",
    "                         filter=chosenFilter)\n",
    "        src = src[src['detect_isPatchInner']]\n",
    "        for patch in patches[1:]:\n",
    "            patchSrc = butler.get('deepCoadd_meas', tract=tract, patch=patch, \n",
    "                                 filter=chosenFilter)\n",
    "            patchSrc = patchSrc[patchSrc['detect_isPatchInner']]\n",
    "            src.extend(patchSrc)\n",
    "            src_loaded = True\n",
    "    if verbose:\n",
    "        print(\" > Done.\")\n",
    "        \n",
    "    # set up bright object selector if needed\n",
    "    if reselectBrightObjects:\n",
    "        if reselectBrightObjects == \"boxAround\":\n",
    "            if verbose:\n",
    "                print(\"Computing box boundaries...\")\n",
    "            # hacky box for a rectangular subset of patches within a tract:\n",
    "            x0 = np.min(src[\"base_SdssCentroid_x\"])\n",
    "            xWidth = np.max(src[\"base_SdssCentroid_x\"]) - x0 \n",
    "            y0 = np.min(src[\"base_SdssCentroid_y\"]) \n",
    "            yWidth = np.max(src[\"base_SdssCentroid_y\"]) - x0 \n",
    "            selector = lambda brightCenters, brightMags, brightRadii : helperFuncs.boxSelector(\n",
    "                        brightCenters, brightRadii, x0, y0, xWidth, yWidth,\n",
    "                        extraBuffer = annSizePix*nbAnnuli)\n",
    "            if verbose:\n",
    "                print(\" > Done.\")\n",
    "        else:\n",
    "            raiseValueError(\"reselectBrightObjects {} not implemented\".format(\n",
    "                            reselectBrightObjects))\n",
    "    else:\n",
    "        selector = None\n",
    "        \n",
    "    # load bright star masks\n",
    "    if gouldingMask:\n",
    "        # if we want to read from the files with all the masks;\n",
    "        # mask_path should then be absolute path to there\n",
    "        brightCenters, mags, rads = helperFuncs.extractBrightStarInfo( \n",
    "                                              tractInfo, mask_path, verbose=verbose)\n",
    "    else:\n",
    "        # if we are reading Arcturus, we need to concatenate them for\n",
    "        # all patches of interest first\n",
    "        for j,patch in enumerate(patches):\n",
    "            thismask = mask_path + '{}/BrightObjectMask-{}-{}-{}.reg'.format(\n",
    "                                        tract, tract, patch, chosenFilter)\n",
    "            bc, bm, br = helperFuncs.extractBrightStarInfo(tractInfo,\n",
    "                                           thismask, verbose=verbose)\n",
    "            brightCenters += bc\n",
    "            if j:\n",
    "                mags = np.hstack((mags, bm))\n",
    "                rads = np.hstack((rads, br))\n",
    "            else:\n",
    "                mags = bm\n",
    "                rads = br\n",
    "    # and further select among these if needed                                                   \n",
    "    if selector is not None:\n",
    "        brightIdx = selector(brightCenters, mags, rads)\n",
    "        brightCenters = [brightCenters[j] for j in brightIdx]\n",
    "        mags = mags[brightIdx]\n",
    "        rads = rads[brightIdx]\n",
    "\n",
    "    # compute counts in annulii\n",
    "    if verbose:\n",
    "        print(\"Computing number counts around bright objects...\")\n",
    "    counts, areas = helperFuncs.countsBeyondMask(src, nbAnnuli, annSizePix, brightCenters,\n",
    "                                           rads, verbose=verbose)\n",
    "    if verbose:\n",
    "        print(\" > Done.\")\n",
    "    # normalize by annulus area\n",
    "    dens = counts / areas\n",
    "    densities += [dens]\n",
    "    brightMags += [mags]\n",
    "    brightRads += [rads]"
   ]
  },
  {
   "cell_type": "markdown",
   "metadata": {},
   "source": [
    "## Plot!"
   ]
  },
  {
   "cell_type": "markdown",
   "metadata": {},
   "source": [
    "Compute distance to edge of each inner radius:"
   ]
  },
  {
   "cell_type": "code",
   "execution_count": 10,
   "metadata": {},
   "outputs": [],
   "source": [
    "distanceToEdge = np.arange(0, annSize*nbAnnuli, annSize)"
   ]
  },
  {
   "cell_type": "markdown",
   "metadata": {},
   "source": [
    "Plot a few individual objects first just to check:"
   ]
  },
  {
   "cell_type": "code",
   "execution_count": 11,
   "metadata": {},
   "outputs": [],
   "source": [
    "if verbose:\n",
    "    for dens, mags, rads, in zip(densities, brightMags, brightRads):\n",
    "        for starIdx in np.argsort(mags)[::199]:\n",
    "            brst = dens[starIdx]\n",
    "            plt.plot(distanceToEdge, brst)\n",
    "            plt.xlabel('Distance to mask edge (arcsec)')\n",
    "            plt.ylabel(r'Detection density (arcsec$^{-2}$)')\n",
    "            plt.title('mag:{}'.format(mags[starIdx]))\n",
    "            plt.show()\n",
    "            plt.close()"
   ]
  },
  {
   "cell_type": "code",
   "execution_count": 12,
   "metadata": {},
   "outputs": [
    {
     "data": {
      "image/png": "[encoded data removed]",
      "text/plain": [
       "<Figure size 432x288 with 1 Axes>"
      ]
     },
     "metadata": {
      "needs_background": "light"
     },
     "output_type": "display_data"
    }
   ],
   "source": [
    "for tract, dens in zip(tractList, densities):\n",
    "    # average detection densities around stars in this magnitude bin:\n",
    "    magDen = np.mean(dens,axis=0)\n",
    "    magDenStd = np.std(dens,axis=0)\n",
    "    plt.errorbar(distanceToEdge, magDen, yerr=magDenStd, capsize=2)\n",
    "    plt.plot(distanceToEdge, np.min(dens,axis=0), c='red', ls='--')\n",
    "    plt.plot(distanceToEdge, np.max(dens,axis=0), c='red', ls='--')\n",
    "\n",
    "    plt.title(\"Tract {}\\n\".format(tract)+\" ({} bright stars)\".format(len(dens)))\n",
    "    plt.xlabel('Distance to ABOUT 1/6th of mask edge (arcsec)')\n",
    "    plt.ylabel(r'Detection density (arcsec$^{-2}$)')\n",
    "    \n",
    "    if savePlots:\n",
    "        plt.savefig(\"plots/\" + plotStub + \"tract{}\".format(tract) + plotExt)\n",
    "    plt.show()\n",
    "    plt.close()"
   ]
  }
 ],
 "metadata": {
  "kernelspec": {
   "display_name": "Python 3",
   "language": "python",
   "name": "python3"
  },
  "language_info": {
   "codemirror_mode": {
    "name": "ipython",
    "version": 3
   },
   "file_extension": ".py",
   "mimetype": "text/x-python",
   "name": "python",
   "nbconvert_exporter": "python",
   "pygments_lexer": "ipython3",
   "version": "3.7.6"
  }
 },
 "nbformat": 4,
 "nbformat_minor": 2
}
