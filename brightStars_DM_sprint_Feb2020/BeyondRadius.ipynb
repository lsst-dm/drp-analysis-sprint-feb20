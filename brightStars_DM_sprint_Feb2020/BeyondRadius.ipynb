{
 "cells": [
  {
   "cell_type": "markdown",
   "metadata": {},
   "source": [
    "# Study (false) detections around bright star masks\n",
    "The radius of current HSC bright star masks, made by Andy Goulding, are selected by comparing the density of detections in increasingly large annuli around each bright stars with the average detection density. \n",
    "\n",
    "They are described in the paper of the Second Data Release of the Hyper Suprime-Cam Subaru Strategic Program (HSC-SSP, Aihara et al., 2019) and on this page: https://hsc-release.mtk.nao.ac.jp/doc/index.php/known-problems-2/#hsc-link-2\n",
    "Note that detections and measurements are still performed inside the areas delimited by the masks, though a flag is set.\n",
    "\n",
    "Still, one of the identified problems with the HSC Public Data Release 2 is that false detections sometimes occur around the edge of these masks. The aim of this notebook is thus to provide a plot of the number of detections as a function of increasing radius, around bright stars and beyond the edge of their mask."
   ]
  },
  {
   "cell_type": "markdown",
   "metadata": {},
   "source": [
    "## Options\n",
    "The following two cells contain variables that the user might want to change to customize parameters related to the disgnostic (and resulting plot) generated.\n",
    "\n",
    "The first one allows one to choose the path to the Butler repo we will read in, filter (note that while it determines which masks are read in*, the detections used are from merged catalog and will remain the same regardless), tracts, and binning options for the annuli.\n",
    "\n",
    "The rerun in `/project/mschmitz/hscRerun/mynobg` is a subset of the 25 central patches in tract 9697, and had local background subtraction turned off.\n",
    "\n",
    "Normally, we'd select bright objects to study from an outside catalog (Gaia). But for now, we are just reading in the actual mask region files, which means we have to jump through a few extra hoops.\n",
    "If we want to look at whole tracts, we can just set `reselectBrightObjects` to `False`; if further selection of bright objects is needed, pass on a string.\n",
    "The only one recognized at the moment is `boxAround`, where we pick a rectangular box around the detections closest to the edges of the considered sky region (because I only reran on the inner 25 patches of a tract for analysis sprint). This is admittedly hacky, but it's temporary, while we work with Andy's masks (and might prove useful anyway, eg to do this plot on the whole COSMOS field, that is circular).\n",
    "\n",
    "\\* not even that in the case of the Arcturus masks, that are all those from the I band despite the filenames containing a filter."
   ]
  },
  {
   "cell_type": "code",
   "execution_count": 1,
   "metadata": {},
   "outputs": [],
   "source": [
    "butlerPath = \"/project/mschmitz/hscRerun/mynobg\"\n",
    "\n",
    "chosenFilter = \"HSC-R\" \n",
    "tractList = [9697] \n",
    "patchList = [[\"{},{}\".format(i,j) for i in range(2,7) for j in range(2,7)]] * len(tractList)\n",
    "\n",
    "# Annuli parameters\n",
    "annSize = 5 # radius of each consecutive annulus, in arcsec\n",
    "nbAnnuli = 20 # number of annuli\n",
    "\n",
    "# which detections to keep\n",
    "reselectBrightObjects = \"boxAround\" #False\n",
    "\n",
    "# print a few checkpoints, validation plots, etc\n",
    "verbose = False\n",
    "\n",
    "# which mask to load - if False, loads Arcturus masks\n",
    "gouldingMask = True"
   ]
  },
  {
   "cell_type": "markdown",
   "metadata": {},
   "source": [
    "Change this cell if you want to save the end plot. If `savePlots` here is set to True, and a folder with the name given in `outputDir` does not exist, it will be created."
   ]
  },
  {
   "cell_type": "code",
   "execution_count": 2,
   "metadata": {},
   "outputs": [],
   "source": [
    "# whether to save plots and what to call them\n",
    "savePlots = True\n",
    "outputDir = 'plots/'\n",
    "plotStub = \"beyondMask\"\n",
    "plotExt = \".png\""
   ]
  },
  {
   "cell_type": "markdown",
   "metadata": {},
   "source": [
    "The rest of the notebook should not require any changes before being ran (though note the cell that actually computes the number counts can take up to a few minutes per tract, depending on annuli parameters)."
   ]
  },
  {
   "cell_type": "markdown",
   "metadata": {},
   "source": [
    "## Set up\n",
    "Usual imports:"
   ]
  },
  {
   "cell_type": "code",
   "execution_count": 3,
   "metadata": {},
   "outputs": [],
   "source": [
    "%matplotlib inline\n",
    "import numpy as np\n",
    "from lsst.daf.persistence import Butler\n",
    "from lsst import geom\n",
    "import matplotlib.pyplot as plt\n",
    "import os"
   ]
  },
  {
   "cell_type": "markdown",
   "metadata": {},
   "source": [
    "And script with utility functions:"
   ]
  },
  {
   "cell_type": "code",
   "execution_count": 4,
   "metadata": {},
   "outputs": [],
   "source": [
    "import helperFuncs"
   ]
  },
  {
   "cell_type": "markdown",
   "metadata": {},
   "source": [
    "Token to avoid rereading the detections every time, eg if we want to play with annuli parameters"
   ]
  },
  {
   "cell_type": "code",
   "execution_count": 5,
   "metadata": {},
   "outputs": [],
   "source": [
    "src_loaded = False "
   ]
  },
  {
   "cell_type": "markdown",
   "metadata": {},
   "source": [
    "Initialize Butler repo:"
   ]
  },
  {
   "cell_type": "code",
   "execution_count": 6,
   "metadata": {},
   "outputs": [],
   "source": [
    "butler = Butler(butlerPath)"
   ]
  },
  {
   "cell_type": "markdown",
   "metadata": {},
   "source": [
    "Path to masks. Note there's likely some that are repeated when using Arcturus near the edges of patches."
   ]
  },
  {
   "cell_type": "code",
   "execution_count": 7,
   "metadata": {},
   "outputs": [
    {
     "name": "stdout",
     "output_type": "stream",
     "text": [
      "r\n"
     ]
    }
   ],
   "source": [
    "if gouldingMask:\n",
    "    # filenames have lower case filter in them:\n",
    "    filterPrefix = \"HSC-\"\n",
    "    if chosenFilter.startswith(filterPrefix) and len(chosenFilter[len(filterPrefix):]) == 1: \n",
    "        filter_lc = chosenFilter[len(filterPrefix):].lower() \n",
    "    else:\n",
    "        raise RunTimeError(f\"Filter name {chosenFilter} not recognized\")\n",
    "    print(filter_lc)\n",
    "    mask_path = \"/datasets/hsc/BrightObjectMasks/GouldingMasksS18A/new_S18Amask_{}.reg\".format(\n",
    "                                            filter_lc)\n",
    "else:\n",
    "    mask_path = \"/datasets/hsc/BrightObjectMasks/ArcturusMasks/\" "
   ]
  },
  {
   "cell_type": "markdown",
   "metadata": {},
   "source": [
    "If plots are to be saved, make sure the folder exists:"
   ]
  },
  {
   "cell_type": "code",
   "execution_count": 8,
   "metadata": {},
   "outputs": [],
   "source": [
    "if savePlots:\n",
    "    if not os.path.isdir(outputDir):\n",
    "        os.makedirs(outputDir)"
   ]
  },
  {
   "cell_type": "markdown",
   "metadata": {},
   "source": [
    "## Run\n",
    "Warning: running cell below can take a while."
   ]
  },
  {
   "cell_type": "code",
   "execution_count": 9,
   "metadata": {},
   "outputs": [],
   "source": [
    "densities, brightMags, brightRads, brightCenters = [], [], [], []\n",
    "for tract,patches in zip(tractList,patchList):\n",
    "    # get sky map and WCS for this tract\n",
    "    skymap = butler.get(\"deepCoadd_skyMap\", tract=tract)\n",
    "    tractInfo = skymap[tract]\n",
    "    wcs = tractInfo.getWcs()\n",
    "    \n",
    "    # convert annuli parameters to pixel\n",
    "    pixScale = geom.radToArcsec(wcs.getPixelScale())\n",
    "    annSizePix = annSize / pixScale\n",
    "    \n",
    "    # load detection catalog for each patch\n",
    "    if verbose:\n",
    "        print(\"Loading and appending all detections...\")\n",
    "    if not src_loaded:\n",
    "        src = butler.get('deepCoadd_meas', tract=tract, patch=patches[0], \n",
    "                         filter=chosenFilter)\n",
    "        src = src[src['detect_isPatchInner']]\n",
    "        for patch in patches[1:]:\n",
    "            patchSrc = butler.get('deepCoadd_meas', tract=tract, patch=patch, \n",
    "                                 filter=chosenFilter)\n",
    "            patchSrc = patchSrc[patchSrc['detect_isPatchInner']]\n",
    "            src.extend(patchSrc)\n",
    "            src_loaded = True\n",
    "    if verbose:\n",
    "        print(\" > Done.\")\n",
    "        \n",
    "    # set up bright object selector if needed\n",
    "    if reselectBrightObjects:\n",
    "        if reselectBrightObjects == \"boxAround\":\n",
    "            if verbose:\n",
    "                print(\"Computing box boundaries...\")\n",
    "            # hacky box for a rectangular subset of patches within a tract:\n",
    "            x0 = np.min(src[\"base_SdssCentroid_x\"])\n",
    "            xWidth = np.max(src[\"base_SdssCentroid_x\"]) - x0 \n",
    "            y0 = np.min(src[\"base_SdssCentroid_y\"]) \n",
    "            yWidth = np.max(src[\"base_SdssCentroid_y\"]) - x0 \n",
    "            selector = lambda brightCenters, brightMags, brightRadii : helperFuncs.boxSelector(\n",
    "                        brightCenters, brightRadii, x0, y0, xWidth, yWidth,\n",
    "                        extraBuffer = annSizePix*nbAnnuli)\n",
    "            if verbose:\n",
    "                print(\" > Done.\")\n",
    "        else:\n",
    "            raiseValueError(\"reselectBrightObjects {} not implemented\".format(\n",
    "                            reselectBrightObjects))\n",
    "    else:\n",
    "        selector = None\n",
    "        \n",
    "    # load bright star masks\n",
    "    if gouldingMask:\n",
    "        # if we want to read from the files with all the masks;\n",
    "        # mask_path should then be absolute path to there\n",
    "        brightCenters, mags, rads = helperFuncs.extractBrightStarInfo( \n",
    "                                              tractInfo, mask_path, verbose=verbose)\n",
    "    else:\n",
    "        # if we are reading Arcturus, we need to concatenate them for\n",
    "        # all patches of interest first\n",
    "        for j,patch in enumerate(patches):\n",
    "            thismask = mask_path + '{}/BrightObjectMask-{}-{}-{}.reg'.format(\n",
    "                                        tract, tract, patch, chosenFilter)\n",
    "            bc, bm, br = helperFuncs.extractBrightStarInfo(tractInfo,\n",
    "                                           thismask, verbose=verbose)\n",
    "            brightCenters += bc\n",
    "            if j:\n",
    "                mags = np.hstack((mags, bm))\n",
    "                rads = np.hstack((rads, br))\n",
    "            else:\n",
    "                mags = bm\n",
    "                rads = br\n",
    "    # and further select among these if needed                                                   \n",
    "    if selector is not None:\n",
    "        brightIdx = selector(brightCenters, mags, rads)\n",
    "        brightCenters = [brightCenters[j] for j in brightIdx]\n",
    "        mags = mags[brightIdx]\n",
    "        rads = rads[brightIdx]\n",
    "\n",
    "    # compute counts in annulii\n",
    "    if verbose:\n",
    "        print(\"Computing number counts around bright objects...\")\n",
    "    counts, areas = helperFuncs.countsBeyondMask(src, nbAnnuli, annSizePix, brightCenters,\n",
    "                                           rads, verbose=verbose)\n",
    "    if verbose:\n",
    "        print(\" > Done.\")\n",
    "    # normalize by annulus area\n",
    "    dens = counts / areas\n",
    "    densities += [dens]\n",
    "    brightMags += [mags]\n",
    "    brightRads += [rads]"
   ]
  },
  {
   "cell_type": "markdown",
   "metadata": {},
   "source": [
    "## Plot!"
   ]
  },
  {
   "cell_type": "markdown",
   "metadata": {},
   "source": [
    "Compute distance to edge of each inner radius:"
   ]
  },
  {
   "cell_type": "code",
   "execution_count": 10,
   "metadata": {},
   "outputs": [],
   "source": [
    "distanceToEdge = np.arange(0, annSize*nbAnnuli, annSize)"
   ]
  },
  {
   "cell_type": "markdown",
   "metadata": {},
   "source": [
    "Plot a few individual objects first just to check:"
   ]
  },
  {
   "cell_type": "code",
   "execution_count": 11,
   "metadata": {},
   "outputs": [],
   "source": [
    "if verbose:\n",
    "    for dens, mags, rads, in zip(densities, brightMags, brightRads):\n",
    "        for starIdx in np.argsort(mags)[::199]:\n",
    "            brst = dens[starIdx]\n",
    "            plt.plot(distanceToEdge, brst)\n",
    "            plt.xlabel('Distance to mask edge (arcsec)')\n",
    "            plt.ylabel(r'Detection density (arcsec$^{-2}$)')\n",
    "            plt.title('mag:{}'.format(mags[starIdx]))\n",
    "            plt.show()\n",
    "            plt.close()"
   ]
  },
  {
   "cell_type": "code",
   "execution_count": 12,
   "metadata": {},
   "outputs": [
    {
     "data": {
      "image/png": "[encoded data removed]",
      "text/plain": [
       "<Figure size 432x288 with 1 Axes>"
      ]
     },
     "metadata": {
      "needs_background": "light"
     },
     "output_type": "display_data"
    }
   ],
   "source": [
    "for tract, dens in zip(tractList, densities):\n",
    "    # average detection densities around stars in this magnitude bin:\n",
    "    magDen = np.mean(dens,axis=0)\n",
    "    magDenStd = np.std(dens,axis=0)\n",
    "    plt.errorbar(distanceToEdge, magDen, yerr=magDenStd, capsize=2, \n",
    "                 label='''Radial detection density at distance from\n",
    "mask edge''')\n",
    "    plt.plot(distanceToEdge, np.min(dens,axis=0), c='red', ls='--', \n",
    "             label='''Minimal and maximal observed densities\n",
    "around a single bright star''')\n",
    "    plt.plot(distanceToEdge, np.max(dens,axis=0), c='red', ls='--')\n",
    "\n",
    "    plt.title(\"Tract {}\\n\".format(tract)+\" ({} stars with mag<18)\".format(len(dens)))\n",
    "    plt.xlabel('Distance to mask edge (arcsec)')\n",
    "    plt.ylabel(r'Detection density (arcsec$^{-2}$)')\n",
    "    plt.legend()\n",
    "    \n",
    "    if savePlots:\n",
    "        plt.savefig(outputDir + plotStub + \"tract{}\".format(tract) + plotExt)\n",
    "    plt.show()\n",
    "    plt.close()"
   ]
  },
  {
   "cell_type": "markdown",
   "metadata": {},
   "source": [
    "## Conclusion/discussion\n",
    "The plot above shows no extra detections beyond the current bright star masks' edges. The same conclusion can be drawn from those in `RadiusDensity.ipynb`.\n",
    "\n",
    "We initially chose to look into detection density around bright stars for the February 2020 analysis sprint in great part because of the right-most plot in [this section of the \"Known Problems\" page of HSC DR2](https://hsc-release.mtk.nao.ac.jp/doc/index.php/known-problems-2/#hsc-link-2). We expected to see an overdensity of detections right around the edge of the masks. \n",
    "\n",
    "Another reason we wanted to have this plot handy in the future is so we could use it to test our upcoming extended PSF model: this overdensity should disappear when detection is ran after subtracting the bright star halos using a fitted extended PSF.\n",
    "\n",
    "After running on a run of the pipeline in its default configuration (which can be done by changing the `butlerPath` variable in the first code cell above), we found no such overdensity. An initial guess was that the local background subtraction hid this effect by (partly) subtracting the bright stars' halos; which led to the rerun in `/project/mschmitz/hscRerun/mynobg`, with local background subtraction turned off, and the above plot. Again, no bump on the left-hand side.\n",
    "\n",
    "In hindsight, however, it makes sense that even with no local background subtraction, no overdensity is apparent here. By construction, the radius of the Goulding masks is chosen so that the median number of detections beyond them is no larger than 3$\\sigma$ above \"background\" (i.e., far from any and all bright object) levels.\n",
    "\n",
    "It is still unclear to me how the plot on the Known Problem page was made, though note it is on one of the narrow bands. The `KnownProblemPlotsOnDisplay.ipynb` notebook, in this folder, tries to reproduce the plot for any tract, filter, and mask file - and I could find no such overdensities beyond the masks.\n",
    "\n",
    "(Note I wondered whether those objects with extremely high detection densities right beyond the mask, as shown by the upper red dashed line above, were especially red bright stars - but no, they are just junk).\n",
    "\n",
    "On the bright star mask front, therefore, the conclusion is simply that this plot is just not the one we want; we should look at the quality of the photometry of objects around bright stars, not at how many of them there are.\n",
    "\n",
    "The plot can still be used, however, if and when we move back to smaller mask sizes, for instance thanks to an extended PSF model (and the subtraction of bright stars it allows for). Indeed, at present, clear overdensities can be seen if we \"pretend\" the masks are smaller than they are, say, by a factor of about six:\n",
    "\n",
    "<img src=\"plots/wrongrad_beyondMasktract9697.png\" style=\"width: 400px;\">\n",
    "\n",
    "If the subtraction of bright star halos is successful, this bump should disappear (as long as it's far enough to be caused by the wings of the star and not ghosts)."
   ]
  }
 ],
 "metadata": {
  "kernelspec": {
   "display_name": "Python 3",
   "language": "python",
   "name": "python3"
  },
  "language_info": {
   "codemirror_mode": {
    "name": "ipython",
    "version": 3
   },
   "file_extension": ".py",
   "mimetype": "text/x-python",
   "name": "python",
   "nbconvert_exporter": "python",
   "pygments_lexer": "ipython3",
   "version": "3.7.6"
  }
 },
 "nbformat": 4,
 "nbformat_minor": 2
}
