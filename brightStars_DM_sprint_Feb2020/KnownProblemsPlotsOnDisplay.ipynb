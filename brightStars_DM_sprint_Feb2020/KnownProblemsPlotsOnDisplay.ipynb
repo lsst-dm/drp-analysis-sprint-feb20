{
 "cells": [
  {
   "cell_type": "markdown",
   "metadata": {},
   "source": [
    "# Show all detections around masks on display\n",
    "Quick notebook to make plots/visual inspections similar to the last image of: https://hsc-release.mtk.nao.ac.jp/doc/index.php/known-problems-2/#hsc-link-2"
   ]
  },
  {
   "cell_type": "markdown",
   "metadata": {},
   "source": [
    "Change next cell to select the patch to show and detections to keep, then run everything:"
   ]
  },
  {
   "cell_type": "code",
   "execution_count": 1,
   "metadata": {},
   "outputs": [],
   "source": [
    "import numpy as np\n",
    "\n",
    "chosenFilter = \"HSC-R\" \n",
    "tract = 9697\n",
    "# random patch among those in my last minute run\n",
    "patch = \"{},{}\".format(np.random.choice(range(2,7),1)[0], np.random.choice(range(2,7),1)[0])\n",
    "\n",
    "# only plot detections in the inner region of the patch\n",
    "keepInner = True\n",
    "# only plot detections brighter than keepMag\n",
    "keepMag = False #27\n",
    "\n",
    "displayFrameNb = 0"
   ]
  },
  {
   "cell_type": "markdown",
   "metadata": {},
   "source": [
    "## Set up"
   ]
  },
  {
   "cell_type": "code",
   "execution_count": 2,
   "metadata": {},
   "outputs": [],
   "source": [
    "%matplotlib inline\n",
    "from lsst.daf.persistence import Butler\n",
    "import lsst.afw.display as afwDisplay\n",
    "from lsst import geom\n",
    "import os"
   ]
  },
  {
   "cell_type": "markdown",
   "metadata": {},
   "source": [
    "Utility function to get info from .reg files containing Andy's masks:"
   ]
  },
  {
   "cell_type": "code",
   "execution_count": 3,
   "metadata": {},
   "outputs": [],
   "source": [
    "def extractBrightStarInfo(tractInfo, chosenFilter, mask_path, radMaxPix=0, verbose=False):\n",
    "    f = open(mask_path, 'r')\n",
    "\n",
    "    # boundaries; shrink BBox so largest annuli can fit in entirely\n",
    "    bBox = tractInfo.getBBox()\n",
    "    bBox.grow(-int(radMaxPix)-1)\n",
    "    wcs = tractInfo.getWcs()\n",
    "\n",
    "    pix_centers = []\n",
    "    mags = []\n",
    "    radii = []\n",
    "    \n",
    "    for line in f:\n",
    "        if line[:6] == 'circle':\n",
    "            maskinfo, comm = line.split('#')\n",
    "            objid, mag = comm.split(',')\n",
    "            maskinfo = maskinfo.split(',')\n",
    "            radius = maskinfo[2].split('d')[0] # keep everything before the d\n",
    "            circle = [float(maskinfo[0][7:]), # remove \"circle(\"\n",
    "                        float(maskinfo[1])]\n",
    "            sp = geom.SpherePoint(circle[0], circle[1], geom.degrees)\n",
    "            cpix = wcs.skyToPixel(sp)\n",
    "            if (cpix[0] >= bBox.beginX and \n",
    "                cpix[0] < bBox.endX):\n",
    "                if (cpix[1] >= bBox.beginY and \n",
    "                    cpix[1] < bBox.endY):\n",
    "                    # also save magnitude (as put down by Andy)...\n",
    "                    mag = float(mag[5:-2]) # remove \" mag:\" and the trailing \\n\n",
    "                    mags += [mag]\n",
    "                    # ... and mask radius\n",
    "                    radii += [float(radius)]\n",
    "                    # if the center of the mask is inside, keep it\n",
    "                    pix_centers += [cpix]\n",
    "        elif line[:3] == 'box': # ignore saturation/bleed trails boxes\n",
    "            pass\n",
    "        else: \n",
    "            if verbose:\n",
    "                # check we didn't miss anything important\n",
    "                print(line)\n",
    "    f.close()\n",
    "    mags = np.array(mags)\n",
    "    radii = np.array(radii) * 3600 # arcsec\n",
    "    return pix_centers, mags, radii"
   ]
  },
  {
   "cell_type": "code",
   "execution_count": 4,
   "metadata": {},
   "outputs": [],
   "source": [
    "butler = Butler(\"/project/mschmitz/hscRerun/mynobg\")"
   ]
  },
  {
   "cell_type": "markdown",
   "metadata": {},
   "source": [
    "## Show on display\n",
    "Start by firing it up:"
   ]
  },
  {
   "cell_type": "code",
   "execution_count": 5,
   "metadata": {},
   "outputs": [
    {
     "name": "stdout",
     "output_type": "stream",
     "text": [
      "['/project/mschmitz/hscRerun/mynobg/deepCoadd-results/HSC-R/9697/6,6/calexp-HSC-R-9697-6,6.fits']\n"
     ]
    }
   ],
   "source": [
    "coadd_fn = butler.get('deepCoadd_calexp_filename', tract=tract, patch=patch, \n",
    "                      filter=chosenFilter)\n",
    "print(coadd_fn)\n",
    "if not os.path.exists(coadd_fn[0]):\n",
    "    print('You are probably reading from parent; worth double checking!')\n",
    "\n",
    "coadd = butler.get('deepCoadd_calexp', tract=tract, patch=patch, filter=chosenFilter)"
   ]
  },
  {
   "cell_type": "code",
   "execution_count": 6,
   "metadata": {},
   "outputs": [],
   "source": [
    "display = afwDisplay.Display(displayFrameNb)\n",
    "mask = coadd.getMask()\n",
    "display.mtv(coadd)\n",
    "display.scale(\"linear\", \"zscale\")\n",
    "display.setMaskTransparency(100)"
   ]
  },
  {
   "cell_type": "markdown",
   "metadata": {},
   "source": [
    "Load detections and mask info:"
   ]
  },
  {
   "cell_type": "code",
   "execution_count": 7,
   "metadata": {},
   "outputs": [
    {
     "name": "stdout",
     "output_type": "stream",
     "text": [
      "27336\n"
     ]
    }
   ],
   "source": [
    "src_fn = butler.get('deepCoadd_meas_filename', tract=tract, patch=patch, filter=chosenFilter)\n",
    "if not os.path.exists(src_fn[0]):\n",
    "    print('You are probably reading from parent; worth double checking!')\n",
    "#src = butler.get('deepCoadd_ref', tract=tract, patch=patch, filter=chosenFilter)\n",
    "allSrc = butler.get('deepCoadd_meas', tract=tract, patch=patch, filter=chosenFilter)\n",
    "print(len(allSrc))"
   ]
  },
  {
   "cell_type": "markdown",
   "metadata": {},
   "source": [
    "Filter kept detections using specified criteria:"
   ]
  },
  {
   "cell_type": "code",
   "execution_count": 8,
   "metadata": {},
   "outputs": [
    {
     "name": "stdout",
     "output_type": "stream",
     "text": [
      "24445 27336\n"
     ]
    }
   ],
   "source": [
    "src = allSrc.copy()\n",
    "if keepInner:\n",
    "    src = src[src['detect_isPatchInner']]\n",
    "\n",
    "if keepMag:\n",
    "    photoCalib = coadd.getPhotoCalib()\n",
    "    ABmags = photoCalib.instFluxToMagnitude(src, 'base_PsfFlux')\n",
    "    src = src[ABmags[:,0] < keepMag]\n",
    "    \n",
    "print(len(src),len(allSrc))"
   ]
  },
  {
   "cell_type": "code",
   "execution_count": 9,
   "metadata": {},
   "outputs": [],
   "source": [
    "# get sky map and WCS for this tract\n",
    "skymap = butler.get(\"deepCoadd_skyMap\", tract=tract, filter=chosenFilter)\n",
    "tractInfo = skymap[tract]\n",
    "wcs = tractInfo.getWcs()\n",
    "pixScale = geom.radToArcsec(wcs.getPixelScale())"
   ]
  },
  {
   "cell_type": "code",
   "execution_count": 10,
   "metadata": {},
   "outputs": [],
   "source": [
    "mask_path = '/datasets/hsc/BrightObjectMasks/GouldingMasksS18A/{}/BrightObjectMask-{}-{}-{}.reg'.format(\n",
    "            tract,tract,patch,chosenFilter)\n",
    "brightCenters, brightMags, brightRadii = extractBrightStarInfo(tractInfo,\n",
    "                                                 chosenFilter, mask_path, verbose=False)"
   ]
  },
  {
   "cell_type": "markdown",
   "metadata": {},
   "source": [
    "Ok, convert mask radii to pixel:"
   ]
  },
  {
   "cell_type": "code",
   "execution_count": 11,
   "metadata": {},
   "outputs": [],
   "source": [
    "brightRadiiPix = brightRadii / pixScale"
   ]
  },
  {
   "cell_type": "markdown",
   "metadata": {},
   "source": [
    "And plot them on display. (Note you can check these either by loading in Andy's .reg file, or comparing with the mask plane for bright objects):"
   ]
  },
  {
   "cell_type": "code",
   "execution_count": 12,
   "metadata": {},
   "outputs": [],
   "source": [
    "with display.Buffering():\n",
    "    for j,cpix in enumerate(brightCenters):\n",
    "        display.dot(\"o\", cpix[0], cpix[1], size=brightRadiiPix[j],\n",
    "                    ctype='orange')"
   ]
  },
  {
   "cell_type": "markdown",
   "metadata": {},
   "source": [
    "Determine detections within that patch and outside all bright star masks:"
   ]
  },
  {
   "cell_type": "code",
   "execution_count": 13,
   "metadata": {},
   "outputs": [],
   "source": [
    "insideCents = np.array([obj.getCentroid() for obj in src])"
   ]
  },
  {
   "cell_type": "code",
   "execution_count": 14,
   "metadata": {},
   "outputs": [],
   "source": [
    "outsideMask = np.ones(len(insideCents)).astype(bool)\n",
    "for brightCen, pixRad in zip(brightCenters, brightRadiiPix):\n",
    "    dist = np.sqrt(np.sum((insideCents - brightCen)**2, axis=1))\n",
    "    outsideMask[dist < pixRad] = False"
   ]
  },
  {
   "cell_type": "markdown",
   "metadata": {},
   "source": [
    "And now plot them, see if you get something like the known problem plot:"
   ]
  },
  {
   "cell_type": "code",
   "execution_count": 15,
   "metadata": {},
   "outputs": [],
   "source": [
    "with display.Buffering():\n",
    "    for cent in insideCents[outsideMask]:\n",
    "        display.dot(\"o\", cent[0], cent[1], \n",
    "                    size=5, ctype='green')"
   ]
  }
 ],
 "metadata": {
  "kernelspec": {
   "display_name": "Python 3",
   "language": "python",
   "name": "python3"
  },
  "language_info": {
   "codemirror_mode": {
    "name": "ipython",
    "version": 3
   },
   "file_extension": ".py",
   "mimetype": "text/x-python",
   "name": "python",
   "nbconvert_exporter": "python",
   "pygments_lexer": "ipython3",
   "version": "3.7.6"
  }
 },
 "nbformat": 4,
 "nbformat_minor": 4
}
