{
 "cells": [
  {
   "cell_type": "markdown",
   "metadata": {},
   "source": [
    "# Rowe/Rho statistics\n",
    "\n",
    "Any error in PSF modelling will propagate into galaxy shapes, and thereby the shear estimate. The impact of the PSF modelling errors on two-point shear correlation functions are quantified by the so-called Rowe ($\\rho$)-statistics."
   ]
  },
  {
   "cell_type": "markdown",
   "metadata": {},
   "source": [
    "$\\rho_1(\\theta) \\equiv \\left\\langle \\; \\delta e^*_{PSF}({\\bf \\phi}) \\, \\delta e_{PSF}({\\bf \\phi}+{\\bf \\theta}) \\; \\right\\rangle $\n",
    "\n",
    "$\\rho_2(\\theta) \\equiv \\left\\langle \\; e^*_{PSF}({\\bf \\phi}) \\, \\delta e_{PSF}({\\bf \\phi}+{\\bf \\theta}) \\; \\right\\rangle $\n",
    "\n",
    "$\\rho_3(\\theta) \\equiv \\left\\langle \\; \\left( e^*_{PSF}\\frac{\\delta T_{PSF}}{T_{PSF}}\\right)({\\bf \\phi}) \\,  \\left( e_{PSF} \\frac{\\delta T_{PSF}}{T_{PSF}}\\right) ({\\bf \\phi}+{\\bf \\theta}) \\; \\right\\rangle $\n",
    "\n",
    "$\\rho_4(\\theta) \\equiv \\left\\langle \\; \\delta e^*_{PSF}({\\bf \\phi}) \\,  \\left( e_{PSF} \\frac{\\delta T_{PSF}}{T_{PSF}}\\right) ({\\bf \\phi}+{\\bf \\theta}) \\; \\right\\rangle $\n",
    "\n",
    "$\\rho_5(\\theta) \\equiv \\left\\langle \\; e^*_{PSF}({\\bf \\phi}) \\,  \\left( e_{PSF} \\frac{\\delta T_{PSF}}{T_{PSF}}\\right) ({\\bf \\phi}+{\\bf \\theta}) \\; \\right\\rangle $"
   ]
  },
  {
   "cell_type": "markdown",
   "metadata": {},
   "source": [
    "The ticket DM-23539 incorporates a calculation of these statistics in `pipe_analysis` so that they are made as a part of regular QA. An example `CmdLineTask` to quickly generate one such plot is given below"
   ]
  },
  {
   "cell_type": "markdown",
   "metadata": {},
   "source": [
    "` coaddAnalysis.py /datasets/hsc/repo/rerun/RC/w_2020_03/DM-23121 --calib /datasets/hsc/repo/CALIB  --output /scratch/kannawad/testCoaddAnalysis/  --id tract=9813 filter=HSC-I  -c doWriteParquetTables=False doPlotPsfFluxSnHists=False doPlotFootprintNpix=False doPlotOverlaps=False  > /scratch/kannawad/testCoaddAnalysis/coaddAnalysis.log & `"
   ]
  },
  {
   "cell_type": "markdown",
   "metadata": {},
   "source": [
    "Because this is (being) integrated into `pipe_analysis`, I simply present the relevant code snippets here, instead of a stand-alone Jupyter notebook. A big pull request to ```lsst-dm/pipe_analysis``` is coming up."
   ]
  },
  {
   "cell_type": "code",
   "execution_count": 12,
   "metadata": {},
   "outputs": [],
   "source": [
    "class RhoStatistics(object):\n",
    "    \"\"\"Functor to calculate Rho statistics for a given star catalog and psf model\"\"\"\n",
    "    def __init__(self, column, psfColumn, **kwargs):\n",
    "        self.column = column\n",
    "        self.psfColumn = psfColumn\n",
    "        \n",
    "        self.e1Func = E1(self.psfColumn)\n",
    "        self.e2Func = E2(self.psfColumn)\n",
    "        self.e1ResidsFunc = E1Resids(self.column, self.psfColumn)\n",
    "        self.e2ResidsFunc = E2Resids(self.column, self.psfColumn)\n",
    "        self.SizeResidsFunc = PsfTraceSizeDiff(self.column, self.psfColumn) # output will be in percentage\n",
    "\n",
    "        self.treecorr_kwargs = {'nbins':kwargs.get('nbins',10), \n",
    "                        'min_sep':kwargs.get('min_sep',0.5), \n",
    "                        'max_sep':kwargs.get('max_sep',10), \n",
    "                        'sep_units':kwargs.get('sep_units',\"arcmin\"), \n",
    "                        'verbose':kwargs.get('verbose',0)}\n",
    "    \n",
    "    def __call__(self, catalog):\n",
    "        e1 = self.e1Func(catalog)\n",
    "        e2 = self.e2Func(catalog)\n",
    "        e1Res = self.e1ResidsFunc(catalog)\n",
    "        e2Res = self.e2ResidsFunc(catalog)\n",
    "        SizeRes = self.SizeResidsFunc(catalog)/100. # since output is in percentage\n",
    " \n",
    "        isFinite = np.isfinite(e1Res) & np.isfinite(e2Res) & np.isfinite(SizeRes)\n",
    "        e1 = e1[isFinite]\n",
    "        e2 = e2[isFinite]\n",
    "        e1Res = e1Res[isFinite]\n",
    "        e2Res = e2Res[isFinite]\n",
    "        SizeRes = SizeRes[isFinite]\n",
    "        \n",
    "        # Scale the SizeRes by ellipticities\n",
    "        e1SizeRes = e1*SizeRes\n",
    "        e2SizeRes = e2*SizeRes\n",
    "\n",
    "        # Package the arguments to capture auto-/cross-correlations for Rowe statistics\n",
    "        g_args = {1: (e1Res, e2Res, None, None),\n",
    "                  2: (e1, e2, e1Res, e2Res),\n",
    "                  3: (e1SizeRes, e2SizeRes, None, None),\n",
    "                  4: (e1Res, e2Res, e1SizeRes, e2SizeRes),\n",
    "                  5: (e1, e2, e1SizeRes, e2SizeRes) }\n",
    "\n",
    "        ra = np.rad2deg(catalog[\"coord_ra\"][isFinite])*60. # arcmin\n",
    "        dec = np.rad2deg(catalog[\"coord_dec\"][isFinite])*60. # arcmin\n",
    " \n",
    "        radii = dict.fromkeys(range(1,6))\n",
    "        xip = dict.fromkeys(range(1,6))\n",
    "        xipErr = dict.fromkeys(range(1,6))\n",
    "\n",
    "        # Pass the appropriate arguments to the correlator\n",
    "        for rhoIndex in range(1,6):\n",
    "            # RFC: Should I just implement the corr2 functionality here inline?\n",
    "            xy = corr2(ra, dec, *(g_args[rhoIndex]), ra_units=\"arcmin\", dec_units=\"arcmin\", **self.treecorr_kwargs)\n",
    "            radii[rhoIndex] = np.exp(xy.meanlogr)\n",
    "            xip[rhoIndex] = xy.xip\n",
    "            xipErr[rhoIndex] = np.sqrt(xy.varxi)\n",
    "\n",
    "        return radii, xip, xipErr\n",
    "    \n",
    "def corr2(ra, dec, g1a, g2a, g1b, g2b, ra_units=\"degrees\", dec_units=\"degrees\", **treecorr_kwargs):\n",
    "    \"\"\" Function to compute auto-/cross-correlations between atmost two shear fields.\n",
    "\n",
    "        This is used to compute Rowe statistics, given the appropriate 'shear' fields.\n",
    "    \"\"\"\n",
    "\n",
    "    xy = treecorr.GGCorrelation(**treecorr_kwargs)\n",
    "    catA = treecorr.Catalog(ra=ra, dec=dec, g1=g1a, g2=g2a, ra_units=ra_units,\n",
    "                               dec_units=dec_units)\n",
    "    if g1b is None or g2b is None:\n",
    "        # Calculate the auto-correlation\n",
    "        xy.process(catA)\n",
    "    else:\n",
    "        catB = treecorr.Catalog(ra=ra, dec=dec, g1=g1b, g2=g2b, ra_units=ra_units,\n",
    "                               dec_units=dec_units)\n",
    "        # Calculate the cross-correlation\n",
    "        xy.process(catA, catB)\n",
    "\n",
    "    return xy\n",
    "\n",
    "class E1(object):\n",
    "    \"\"\"Function to calculate e1 ellipticity for a given object\"\"\"\n",
    "    def __init__(self, column, unitScale=1.0):\n",
    "        self.column = column\n",
    "        self.unitScale = unitScale\n",
    "\n",
    "    def __call__(self, catalog):\n",
    "        E1 = ((catalog[self.column + \"_xx\"] - catalog[self.column + \"_yy\"])/\n",
    "                 (catalog[self.column + \"_xx\"] + catalog[self.column + \"_yy\"]))\n",
    "        return np.array(E1)*self.unitScale\n",
    "\n",
    "class E2(object):\n",
    "    \"\"\"Function to calculate e2 ellipticity for a given object\"\"\"\n",
    "    def __init__(self, column, unitScale=1.0):\n",
    "        self.column = column\n",
    "        self.unitScale = unitScale\n",
    "\n",
    "    def __call__(self, catalog):\n",
    "        E2 = (2.0*catalog[self.column + \"_xy\"]/\n",
    "                 (catalog[self.column + \"_xx\"] + catalog[self.column + \"_yy\"]))\n",
    "        return np.array(E2)*self.unitScale\n",
    "\n",
    "class E1Resids(object):\n",
    "    \"\"\"Functor to calculate e1 ellipticity residuals for a given object and psf model\"\"\"\n",
    "    def __init__(self, column, psfColumn, unitScale=1.0):\n",
    "        self.column = column\n",
    "        self.psfColumn = psfColumn\n",
    "        self.unitScale = unitScale\n",
    "\n",
    "    def __call__(self, catalog):\n",
    "        srcE1func = E1(self.column, self.unitScale)\n",
    "        psfE1func = E1(self.psfColumn, self.unitScale)\n",
    "\n",
    "        srcE1 = srcE1func(catalog)\n",
    "        psfE1 = psfE1func(catalog)\n",
    "\n",
    "        e1Resids = srcE1 - psfE1\n",
    "        return e1Resids\n",
    "\n",
    "\n",
    "class E2Resids(object):\n",
    "    \"\"\"Functor to calculate e2 ellipticity residuals for a given object and psf model\"\"\"\n",
    "    def __init__(self, column, psfColumn, unitScale=1.0):\n",
    "        self.column = column\n",
    "        self.psfColumn = psfColumn\n",
    "        self.unitScale = unitScale\n",
    "\n",
    "    def __call__(self, catalog):\n",
    "        srcE2func = E2(self.column, self.unitScale)\n",
    "        psfE2func = E2(self.psfColumn, self.unitScale)\n",
    "\n",
    "        srcE2 = srcE2func(catalog)\n",
    "        psfE2 = psfE2func(catalog)\n",
    "\n",
    "        e2Resids = srcE2 - psfE2\n",
    "        return e2Resids"
   ]
  },
  {
   "cell_type": "markdown",
   "metadata": {},
   "source": [
    "In all plots that follow, only the absolute value of the Rowe statistics are plotted. The sign is denoted by the marker fillstyle: \n",
    "\n",
    "   * Closed points correspond to positive values\n",
    "   * Open points correspond to negative values.\n",
    "\n",
    "First, I will compute the Rowe statistics for PSF stars.\n",
    "\n",
    "![RhoStatistics](plot-t9813-HSC-I-Rho_calib_psf_used-corr.png) \n",
    "![hsmRho](plot-t9813-HSC-I-hsmRho_calib_psf_used-corr.png)"
   ]
  },
  {
   "cell_type": "markdown",
   "metadata": {},
   "source": [
    "Now for all stars selected as \n",
    "\n",
    "`base_ClassificationExtendedness_value < 0.5`\n",
    "\n",
    "![](plot-t9813-HSC-I-Rho_all_stars-corr.png)\n",
    "![](plot-t9813-HSC-I-hsmRho_all_stars-corr.png)"
   ]
  },
  {
   "cell_type": "markdown",
   "metadata": {},
   "source": [
    "How do the Rowe statistics look in a given visit?\n",
    "\n",
    "![](plot-v1248-Rho_calib_psf_used-corr.png)\n",
    "![](plot-v1248-hsmRho_calib_psf_used-corr.png)\n",
    "\n",
    "![](plot-v1248-Rho_all_stars-corr.png)\n",
    "![](plot-v1248-hsmRho_all_stars-corr.png)"
   ]
  },
  {
   "cell_type": "markdown",
   "metadata": {},
   "source": [
    "The smaller these values are, the better.\n",
    "\n",
    "Before moving on, we can compare these plots with what we get from another dataset. For comparison, I plot the similar quantities from the Year 1 release of Dark Energy Survey (Zuntz et al., 2018)\n",
    "\n",
    "![DES](DES_Rowe.png)"
   ]
  },
  {
   "cell_type": "markdown",
   "metadata": {},
   "source": [
    "### Some insights:\n",
    "\n",
    "- $\\rho_3$, $\\rho_4$ and $\\rho_5$ involve PSF size residuals, with $\\rho_5$ being a first-order quantity in the residuals.\n",
    "\n",
    "- The scale-independence and high amplitude of $\\rho_5$ is related to a known problem - The PSF model happens to be larger than the PSF stars. \n",
    "  It is interesting that the trend is other way around for all stars, with similar amplitude.\n",
    "  \n",
    "- $\\rho_5$ is similar in amplitude for PSF stars at the visit level. But it is worse for non-PSF stars. This is puzzling!\n",
    "  \n",
    "- The amplitude and weak scale-dependence of $\\rho_1$ and $\\rho_2$ suggest other problems with PSF ellipticity modelling. It's likely it's related to the problem above."
   ]
  },
  {
   "cell_type": "markdown",
   "metadata": {},
   "source": [
    "Before signing off, we look at another tract"
   ]
  },
  {
   "cell_type": "markdown",
   "metadata": {},
   "source": [
    "![RhoStatistics](plot-t9615-HSC-I-Rho_calib_psf_used-corr.png) \n",
    "![hsmRho](plot-t9615-HSC-I-hsmRho_calib_psf_used-corr.png)\n",
    "\n",
    "![RhoStatistics](plot-t9615-HSC-I-Rho_all_stars-corr.png) \n",
    "![hsmRho](plot-t9615-HSC-I-hsmRho_all_stars-corr.png)"
   ]
  },
  {
   "cell_type": "markdown",
   "metadata": {},
   "source": [
    "For yet another tract, this time with HSC-Y filter"
   ]
  },
  {
   "cell_type": "markdown",
   "metadata": {},
   "source": [
    "![RhoStatistics](plot-t9697-HSC-Y-Rho_calib_psf_used-corr.png) \n",
    "![hsmRho](plot-t9697-HSC-Y-hsmRho_calib_psf_used-corr.png)\n",
    "\n",
    "![](plot-t9697-HSC-Y-Rho_all_stars-corr.png)\n",
    "![](plot-t9697-HSC-Y-hsmRho_all_stars-corr.png)"
   ]
  }
 ],
 "metadata": {
  "kernelspec": {
   "display_name": "Python 3",
   "language": "python",
   "name": "python3"
  },
  "language_info": {
   "codemirror_mode": {
    "name": "ipython",
    "version": 3
   },
   "file_extension": ".py",
   "mimetype": "text/x-python",
   "name": "python",
   "nbconvert_exporter": "python",
   "pygments_lexer": "ipython3",
   "version": "3.7.2"
  }
 },
 "nbformat": 4,
 "nbformat_minor": 4
}
